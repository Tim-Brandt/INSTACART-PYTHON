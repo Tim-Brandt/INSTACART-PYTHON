{
 "cells": [
  {
   "cell_type": "markdown",
   "id": "3f359873",
   "metadata": {},
   "source": [
    "#01. Importing libraries"
   ]
  },
  {
   "cell_type": "code",
   "execution_count": 1,
   "id": "2897f8a7",
   "metadata": {},
   "outputs": [],
   "source": [
    "# Import libraries\n",
    "import pandas as pd\n",
    "import numpy as np\n",
    "import os"
   ]
  },
  {
   "cell_type": "markdown",
   "id": "cad40aea",
   "metadata": {},
   "source": [
    "02. Data types"
   ]
  },
  {
   "cell_type": "code",
   "execution_count": 2,
   "id": "8a31a0cd",
   "metadata": {},
   "outputs": [],
   "source": [
    "x = 2"
   ]
  },
  {
   "cell_type": "code",
   "execution_count": 3,
   "id": "2beb1386",
   "metadata": {},
   "outputs": [
    {
     "data": {
      "text/plain": [
       "2"
      ]
     },
     "execution_count": 3,
     "metadata": {},
     "output_type": "execute_result"
    }
   ],
   "source": [
    "x"
   ]
  },
  {
   "cell_type": "code",
   "execution_count": 4,
   "id": "b0a99e62",
   "metadata": {},
   "outputs": [
    {
     "name": "stdout",
     "output_type": "stream",
     "text": [
      "2\n"
     ]
    }
   ],
   "source": [
    "print(x)"
   ]
  },
  {
   "cell_type": "code",
   "execution_count": 5,
   "id": "87d2b147",
   "metadata": {},
   "outputs": [
    {
     "data": {
      "text/plain": [
       "int"
      ]
     },
     "execution_count": 5,
     "metadata": {},
     "output_type": "execute_result"
    }
   ],
   "source": [
    "type(x)"
   ]
  },
  {
   "cell_type": "code",
   "execution_count": 8,
   "id": "f9c9862d",
   "metadata": {},
   "outputs": [],
   "source": [
    "y = 5.678"
   ]
  },
  {
   "cell_type": "code",
   "execution_count": 9,
   "id": "391489a1",
   "metadata": {
    "scrolled": false
   },
   "outputs": [
    {
     "data": {
      "text/plain": [
       "float"
      ]
     },
     "execution_count": 9,
     "metadata": {},
     "output_type": "execute_result"
    }
   ],
   "source": [
    "type(y)"
   ]
  },
  {
   "cell_type": "code",
   "execution_count": 10,
   "id": "9e1b1cec",
   "metadata": {},
   "outputs": [],
   "source": [
    "z = 'Brazil'"
   ]
  },
  {
   "cell_type": "code",
   "execution_count": 11,
   "id": "b59dced7",
   "metadata": {},
   "outputs": [
    {
     "data": {
      "text/plain": [
       "str"
      ]
     },
     "execution_count": 11,
     "metadata": {},
     "output_type": "execute_result"
    }
   ],
   "source": [
    "type (z)"
   ]
  },
  {
   "cell_type": "code",
   "execution_count": 13,
   "id": "e6cf1fc2",
   "metadata": {},
   "outputs": [
    {
     "data": {
      "text/plain": [
       "bool"
      ]
     },
     "execution_count": 13,
     "metadata": {},
     "output_type": "execute_result"
    }
   ],
   "source": [
    "type(True)"
   ]
  },
  {
   "cell_type": "code",
   "execution_count": 14,
   "id": "ef5cfce3",
   "metadata": {},
   "outputs": [
    {
     "data": {
      "text/plain": [
       "bool"
      ]
     },
     "execution_count": 14,
     "metadata": {},
     "output_type": "execute_result"
    }
   ],
   "source": [
    "type(False)"
   ]
  },
  {
   "cell_type": "code",
   "execution_count": 17,
   "id": "de21e8e5",
   "metadata": {},
   "outputs": [],
   "source": [
    "A = 50 + 50"
   ]
  },
  {
   "cell_type": "code",
   "execution_count": 18,
   "id": "42fba6b8",
   "metadata": {
    "scrolled": true
   },
   "outputs": [
    {
     "name": "stdout",
     "output_type": "stream",
     "text": [
      "100\n"
     ]
    }
   ],
   "source": [
    "print (A)"
   ]
  },
  {
   "cell_type": "code",
   "execution_count": 24,
   "id": "01402b4e",
   "metadata": {
    "scrolled": true
   },
   "outputs": [],
   "source": [
    "C = 200 - 100"
   ]
  },
  {
   "cell_type": "code",
   "execution_count": 25,
   "id": "83d94d2c",
   "metadata": {},
   "outputs": [
    {
     "name": "stdout",
     "output_type": "stream",
     "text": [
      "100\n"
     ]
    }
   ],
   "source": [
    "print (C)"
   ]
  },
  {
   "cell_type": "code",
   "execution_count": 26,
   "id": "3e476381",
   "metadata": {},
   "outputs": [],
   "source": [
    "D = 200 - 150 + 50"
   ]
  },
  {
   "cell_type": "code",
   "execution_count": 27,
   "id": "1b2d3ffd",
   "metadata": {},
   "outputs": [
    {
     "name": "stdout",
     "output_type": "stream",
     "text": [
      "100\n"
     ]
    }
   ],
   "source": [
    "print (D)"
   ]
  },
  {
   "cell_type": "code",
   "execution_count": 28,
   "id": "d88a4f24",
   "metadata": {},
   "outputs": [],
   "source": [
    "E = 542.5749"
   ]
  },
  {
   "cell_type": "code",
   "execution_count": 29,
   "id": "152c3106",
   "metadata": {},
   "outputs": [],
   "source": [
    "F = 101.957"
   ]
  },
  {
   "cell_type": "code",
   "execution_count": 30,
   "id": "5b83a4a8",
   "metadata": {},
   "outputs": [
    {
     "name": "stdout",
     "output_type": "stream",
     "text": [
      "5.321605186500191\n"
     ]
    }
   ],
   "source": [
    "print (E/F)"
   ]
  },
  {
   "cell_type": "code",
   "execution_count": 35,
   "id": "80f616f2",
   "metadata": {},
   "outputs": [],
   "source": [
    "G = 'Py'"
   ]
  },
  {
   "cell_type": "code",
   "execution_count": 32,
   "id": "7fdb4d6e",
   "metadata": {},
   "outputs": [],
   "source": [
    "H = 'th'"
   ]
  },
  {
   "cell_type": "code",
   "execution_count": 36,
   "id": "ea8f156d",
   "metadata": {},
   "outputs": [],
   "source": [
    "I = 'on'"
   ]
  },
  {
   "cell_type": "code",
   "execution_count": 37,
   "id": "ec38d79d",
   "metadata": {},
   "outputs": [
    {
     "data": {
      "text/plain": [
       "'Python'"
      ]
     },
     "execution_count": 37,
     "metadata": {},
     "output_type": "execute_result"
    }
   ],
   "source": [
    "G + H + I"
   ]
  },
  {
   "cell_type": "code",
   "execution_count": 38,
   "id": "9d955f22",
   "metadata": {},
   "outputs": [],
   "source": [
    " J = 'I’m not embarrassed to call '"
   ]
  },
  {
   "cell_type": "code",
   "execution_count": 39,
   "id": "8b4fb58c",
   "metadata": {},
   "outputs": [],
   "source": [
    "K = 'myself an Excel nerd. '"
   ]
  },
  {
   "cell_type": "code",
   "execution_count": 40,
   "id": "39f4a46b",
   "metadata": {},
   "outputs": [],
   "source": [
    "L = 'Because data can be fun!'"
   ]
  },
  {
   "cell_type": "code",
   "execution_count": 41,
   "id": "178c3528",
   "metadata": {},
   "outputs": [
    {
     "data": {
      "text/plain": [
       "'I’m not embarrassed to call myself an Excel nerd. Because data can be fun!'"
      ]
     },
     "execution_count": 41,
     "metadata": {},
     "output_type": "execute_result"
    }
   ],
   "source": [
    "J + K + L"
   ]
  },
  {
   "cell_type": "code",
   "execution_count": null,
   "id": "4623764c",
   "metadata": {},
   "outputs": [],
   "source": []
  }
 ],
 "metadata": {
  "kernelspec": {
   "display_name": "Python 3 (ipykernel)",
   "language": "python",
   "name": "python3"
  },
  "language_info": {
   "codemirror_mode": {
    "name": "ipython",
    "version": 3
   },
   "file_extension": ".py",
   "mimetype": "text/x-python",
   "name": "python",
   "nbconvert_exporter": "python",
   "pygments_lexer": "ipython3",
   "version": "3.11.4"
  }
 },
 "nbformat": 4,
 "nbformat_minor": 5
}
